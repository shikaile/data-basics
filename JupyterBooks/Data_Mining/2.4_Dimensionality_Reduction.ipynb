{
 "cells": [
  {
   "cell_type": "code",
   "execution_count": 64,
   "id": "ef74e9e7",
   "metadata": {},
   "outputs": [],
   "source": [
    "import pandas as pd\n",
    "import seaborn as sns\n",
    "import numpy as np\n",
    "import matplotlib.pyplot as plt\n",
    "from sklearn.model_selection import train_test_split\n",
    "from sklearn.linear_model import LinearRegression, LogisticRegression\n",
    "from sklearn.decomposition import PCA\n",
    "\n",
    "%matplotlib inline"
   ]
  },
  {
   "cell_type": "code",
   "execution_count": 37,
   "id": "67b14680",
   "metadata": {},
   "outputs": [],
   "source": [
    "df = pd.read_csv('../data_sets/single_family_home_values.csv')\n",
    "df = df.dropna()"
   ]
  },
  {
   "cell_type": "code",
   "execution_count": 38,
   "id": "54a7fc70",
   "metadata": {},
   "outputs": [],
   "source": [
    "X = df[['bedrooms','bathrooms','rooms','squareFootage','lotSize', 'yearBuilt','priorSaleAmount']]"
   ]
  },
  {
   "cell_type": "markdown",
   "id": "a2c98d64",
   "metadata": {},
   "source": [
    "# PCA : Principal Components Analysis \n",
    "    -used to explained shared variance in feature set\n",
    "curse of dimensionality: \n",
    "\"As the number of features or dimensions increase, the amonnt of data we need to generalize accurately grows exponetially.\""
   ]
  },
  {
   "cell_type": "code",
   "execution_count": null,
   "id": "01a5c2ab",
   "metadata": {},
   "outputs": [],
   "source": []
  },
  {
   "cell_type": "code",
   "execution_count": 39,
   "id": "a11f9a35",
   "metadata": {},
   "outputs": [],
   "source": [
    "pca= PCA(n_components=4)"
   ]
  },
  {
   "cell_type": "code",
   "execution_count": 40,
   "id": "bba693d4",
   "metadata": {},
   "outputs": [
    {
     "data": {
      "text/html": [
       "<div>\n",
       "<style scoped>\n",
       "    .dataframe tbody tr th:only-of-type {\n",
       "        vertical-align: middle;\n",
       "    }\n",
       "\n",
       "    .dataframe tbody tr th {\n",
       "        vertical-align: top;\n",
       "    }\n",
       "\n",
       "    .dataframe thead th {\n",
       "        text-align: right;\n",
       "    }\n",
       "</style>\n",
       "<table border=\"1\" class=\"dataframe\">\n",
       "  <thead>\n",
       "    <tr style=\"text-align: right;\">\n",
       "      <th></th>\n",
       "      <th>bedrooms</th>\n",
       "      <th>bathrooms</th>\n",
       "      <th>rooms</th>\n",
       "      <th>squareFootage</th>\n",
       "      <th>lotSize</th>\n",
       "      <th>yearBuilt</th>\n",
       "      <th>priorSaleAmount</th>\n",
       "    </tr>\n",
       "  </thead>\n",
       "  <tbody>\n",
       "    <tr>\n",
       "      <th>0</th>\n",
       "      <td>3</td>\n",
       "      <td>2.0</td>\n",
       "      <td>6</td>\n",
       "      <td>1378</td>\n",
       "      <td>9968</td>\n",
       "      <td>2003.0</td>\n",
       "      <td>165700.0</td>\n",
       "    </tr>\n",
       "    <tr>\n",
       "      <th>3</th>\n",
       "      <td>4</td>\n",
       "      <td>3.0</td>\n",
       "      <td>0</td>\n",
       "      <td>2400</td>\n",
       "      <td>11500</td>\n",
       "      <td>1956.0</td>\n",
       "      <td>0.0</td>\n",
       "    </tr>\n",
       "    <tr>\n",
       "      <th>4</th>\n",
       "      <td>3</td>\n",
       "      <td>4.0</td>\n",
       "      <td>8</td>\n",
       "      <td>2305</td>\n",
       "      <td>5600</td>\n",
       "      <td>1998.0</td>\n",
       "      <td>0.0</td>\n",
       "    </tr>\n",
       "    <tr>\n",
       "      <th>5</th>\n",
       "      <td>3</td>\n",
       "      <td>5.0</td>\n",
       "      <td>7</td>\n",
       "      <td>2051</td>\n",
       "      <td>6045</td>\n",
       "      <td>1996.0</td>\n",
       "      <td>339000.0</td>\n",
       "    </tr>\n",
       "    <tr>\n",
       "      <th>6</th>\n",
       "      <td>4</td>\n",
       "      <td>4.0</td>\n",
       "      <td>8</td>\n",
       "      <td>2051</td>\n",
       "      <td>6315</td>\n",
       "      <td>1997.0</td>\n",
       "      <td>345000.0</td>\n",
       "    </tr>\n",
       "    <tr>\n",
       "      <th>...</th>\n",
       "      <td>...</td>\n",
       "      <td>...</td>\n",
       "      <td>...</td>\n",
       "      <td>...</td>\n",
       "      <td>...</td>\n",
       "      <td>...</td>\n",
       "      <td>...</td>\n",
       "    </tr>\n",
       "    <tr>\n",
       "      <th>14994</th>\n",
       "      <td>3</td>\n",
       "      <td>2.0</td>\n",
       "      <td>7</td>\n",
       "      <td>1913</td>\n",
       "      <td>4990</td>\n",
       "      <td>1925.0</td>\n",
       "      <td>142000.0</td>\n",
       "    </tr>\n",
       "    <tr>\n",
       "      <th>14996</th>\n",
       "      <td>3</td>\n",
       "      <td>3.0</td>\n",
       "      <td>11</td>\n",
       "      <td>2937</td>\n",
       "      <td>4500</td>\n",
       "      <td>1890.0</td>\n",
       "      <td>557500.0</td>\n",
       "    </tr>\n",
       "    <tr>\n",
       "      <th>14997</th>\n",
       "      <td>3</td>\n",
       "      <td>5.0</td>\n",
       "      <td>7</td>\n",
       "      <td>2937</td>\n",
       "      <td>4680</td>\n",
       "      <td>2007.0</td>\n",
       "      <td>1208214.0</td>\n",
       "    </tr>\n",
       "    <tr>\n",
       "      <th>14998</th>\n",
       "      <td>3</td>\n",
       "      <td>4.0</td>\n",
       "      <td>10</td>\n",
       "      <td>3193</td>\n",
       "      <td>4970</td>\n",
       "      <td>2005.0</td>\n",
       "      <td>405000.0</td>\n",
       "    </tr>\n",
       "    <tr>\n",
       "      <th>14999</th>\n",
       "      <td>3</td>\n",
       "      <td>5.0</td>\n",
       "      <td>9</td>\n",
       "      <td>3193</td>\n",
       "      <td>4364</td>\n",
       "      <td>2001.0</td>\n",
       "      <td>925000.0</td>\n",
       "    </tr>\n",
       "  </tbody>\n",
       "</table>\n",
       "<p>11078 rows × 7 columns</p>\n",
       "</div>"
      ],
      "text/plain": [
       "       bedrooms  bathrooms  rooms  squareFootage  lotSize  yearBuilt  \\\n",
       "0             3        2.0      6           1378     9968     2003.0   \n",
       "3             4        3.0      0           2400    11500     1956.0   \n",
       "4             3        4.0      8           2305     5600     1998.0   \n",
       "5             3        5.0      7           2051     6045     1996.0   \n",
       "6             4        4.0      8           2051     6315     1997.0   \n",
       "...         ...        ...    ...            ...      ...        ...   \n",
       "14994         3        2.0      7           1913     4990     1925.0   \n",
       "14996         3        3.0     11           2937     4500     1890.0   \n",
       "14997         3        5.0      7           2937     4680     2007.0   \n",
       "14998         3        4.0     10           3193     4970     2005.0   \n",
       "14999         3        5.0      9           3193     4364     2001.0   \n",
       "\n",
       "       priorSaleAmount  \n",
       "0             165700.0  \n",
       "3                  0.0  \n",
       "4                  0.0  \n",
       "5             339000.0  \n",
       "6             345000.0  \n",
       "...                ...  \n",
       "14994         142000.0  \n",
       "14996         557500.0  \n",
       "14997        1208214.0  \n",
       "14998         405000.0  \n",
       "14999         925000.0  \n",
       "\n",
       "[11078 rows x 7 columns]"
      ]
     },
     "execution_count": 40,
     "metadata": {},
     "output_type": "execute_result"
    }
   ],
   "source": [
    "X"
   ]
  },
  {
   "cell_type": "code",
   "execution_count": 41,
   "id": "9f0f22e6",
   "metadata": {},
   "outputs": [
    {
     "data": {
      "text/plain": [
       "(11078, 7)"
      ]
     },
     "execution_count": 41,
     "metadata": {},
     "output_type": "execute_result"
    }
   ],
   "source": [
    "X.shape"
   ]
  },
  {
   "cell_type": "code",
   "execution_count": 42,
   "id": "73c5d1c8",
   "metadata": {},
   "outputs": [],
   "source": [
    "X_transformed = pca.fit_transform(X)"
   ]
  },
  {
   "cell_type": "code",
   "execution_count": 43,
   "id": "bbe74512",
   "metadata": {},
   "outputs": [
    {
     "data": {
      "text/plain": [
       "(11078, 4)"
      ]
     },
     "execution_count": 43,
     "metadata": {},
     "output_type": "execute_result"
    }
   ],
   "source": [
    "X_transformed.shape"
   ]
  },
  {
   "cell_type": "code",
   "execution_count": 45,
   "id": "9ad24560",
   "metadata": {},
   "outputs": [
    {
     "data": {
      "text/plain": [
       "(4, 7)"
      ]
     },
     "execution_count": 45,
     "metadata": {},
     "output_type": "execute_result"
    }
   ],
   "source": [
    "pca.components_.shape"
   ]
  },
  {
   "cell_type": "code",
   "execution_count": 59,
   "id": "57dd3ca3",
   "metadata": {},
   "outputs": [
    {
     "data": {
      "text/plain": [
       "array([[ 5.52398650e-07,  1.55543596e-06,  2.12570943e-06,\n",
       "         1.20723111e-03,  1.68705547e-03,  1.00999964e-05,\n",
       "         9.99997848e-01],\n",
       "       [ 4.29584566e-05,  8.10488486e-05,  6.61038253e-05,\n",
       "         8.21768165e-02,  9.96608592e-01,  3.88617613e-03,\n",
       "        -1.78058375e-03],\n",
       "       [-7.74904709e-04, -1.13439951e-03, -1.96339095e-03,\n",
       "        -9.96614094e-01,  8.21768501e-02,  6.61079723e-04,\n",
       "         1.06450862e-03],\n",
       "       [ 3.91464909e-03, -4.34195290e-03,  7.21824327e-03,\n",
       "        -3.51729211e-04,  3.92791692e-03, -9.99949083e-01,\n",
       "         3.88674253e-06]])"
      ]
     },
     "execution_count": 59,
     "metadata": {},
     "output_type": "execute_result"
    }
   ],
   "source": [
    "pca.components_"
   ]
  },
  {
   "cell_type": "code",
   "execution_count": 60,
   "id": "ad28f4f3",
   "metadata": {},
   "outputs": [
    {
     "data": {
      "text/plain": [
       "array([5.52398650e-07, 1.55543596e-06, 2.12570943e-06, 1.20723111e-03,\n",
       "       1.68705547e-03, 1.00999964e-05, 9.99997848e-01])"
      ]
     },
     "execution_count": 60,
     "metadata": {},
     "output_type": "execute_result"
    }
   ],
   "source": [
    "pca.components_[0]"
   ]
  },
  {
   "cell_type": "code",
   "execution_count": 62,
   "id": "e2e389be",
   "metadata": {},
   "outputs": [],
   "source": [
    "y= df.estimated_value\n"
   ]
  },
  {
   "cell_type": "code",
   "execution_count": 63,
   "id": "05867cc8",
   "metadata": {},
   "outputs": [
    {
     "data": {
      "text/plain": [
       "0         239753\n",
       "3         494073\n",
       "4         513676\n",
       "5         496062\n",
       "6         514953\n",
       "          ...   \n",
       "14994     784955\n",
       "14996     807306\n",
       "14997    1737156\n",
       "14998    2008794\n",
       "14999    1421401\n",
       "Name: estimated_value, Length: 11078, dtype: int64"
      ]
     },
     "execution_count": 63,
     "metadata": {},
     "output_type": "execute_result"
    }
   ],
   "source": [
    "y"
   ]
  },
  {
   "cell_type": "code",
   "execution_count": 65,
   "id": "9a482379",
   "metadata": {},
   "outputs": [],
   "source": [
    "lg = LinearRegression()"
   ]
  },
  {
   "cell_type": "code",
   "execution_count": 66,
   "id": "53bd35cf",
   "metadata": {},
   "outputs": [],
   "source": [
    "X_train, X_test, y_train, y_test = train_test_split(X_transformed, y)"
   ]
  },
  {
   "cell_type": "code",
   "execution_count": 68,
   "id": "a2a5ddc9",
   "metadata": {},
   "outputs": [
    {
     "data": {
      "text/plain": [
       "0.7410524847309248"
      ]
     },
     "execution_count": 68,
     "metadata": {},
     "output_type": "execute_result"
    }
   ],
   "source": [
    "lg.fit(X_train, y_train)\n",
    "lg.score(X_test, y_test) # can compare this to score generated on previous regressions "
   ]
  },
  {
   "cell_type": "code",
   "execution_count": null,
   "id": "ca1ec594",
   "metadata": {},
   "outputs": [],
   "source": []
  }
 ],
 "metadata": {
  "kernelspec": {
   "display_name": "Python 3 (ipykernel)",
   "language": "python",
   "name": "python3"
  },
  "language_info": {
   "codemirror_mode": {
    "name": "ipython",
    "version": 3
   },
   "file_extension": ".py",
   "mimetype": "text/x-python",
   "name": "python",
   "nbconvert_exporter": "python",
   "pygments_lexer": "ipython3",
   "version": "3.9.13"
  }
 },
 "nbformat": 4,
 "nbformat_minor": 5
}
