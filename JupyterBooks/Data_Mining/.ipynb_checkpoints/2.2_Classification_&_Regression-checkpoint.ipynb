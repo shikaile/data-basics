{
 "cells": [
  {
   "cell_type": "markdown",
   "id": "368fa156",
   "metadata": {},
   "source": [
    "# continuation of 2.1, using same dataset"
   ]
  },
  {
   "cell_type": "code",
   "execution_count": 3,
   "id": "9cb35394",
   "metadata": {},
   "outputs": [],
   "source": [
    "import pandas as pd\n",
    "import seaborn as sns\n",
    "import numpy as np\n",
    "import matplotlib.pyplot as plt\n",
    "from sklearn.cluster import KMeans\n",
    "%matplotlib inline"
   ]
  },
  {
   "cell_type": "code",
   "execution_count": 64,
   "id": "35049aaf",
   "metadata": {},
   "outputs": [],
   "source": [
    "from sklearn.linear_model import LinearRegression, LogisticRegression\n",
    "from sklearn.svm import SVC,SVR\n",
    "from sklearn.neighbors import KNeighborsClassifier, KNeighborsRegressor\n",
    "from sklearn.model_selection import train_test_split\n",
    "from sklearn.metrics import confusion_matrix"
   ]
  },
  {
   "cell_type": "code",
   "execution_count": 5,
   "id": "d6db5fb7",
   "metadata": {},
   "outputs": [],
   "source": [
    "df = pd.read_csv('../data_sets/single_family_home_values.csv') #zillow"
   ]
  },
  {
   "cell_type": "code",
   "execution_count": 13,
   "id": "750ec397",
   "metadata": {},
   "outputs": [],
   "source": [
    "df.fillna(0, inplace=True)"
   ]
  },
  {
   "cell_type": "code",
   "execution_count": 14,
   "id": "9f76450c",
   "metadata": {},
   "outputs": [],
   "source": [
    "X = df[['bedrooms','bathrooms','rooms','squareFootage','lotSize', 'yearBuilt','priorSaleAmount']]"
   ]
  },
  {
   "cell_type": "code",
   "execution_count": 15,
   "id": "7d7ff479",
   "metadata": {},
   "outputs": [
    {
     "data": {
      "text/html": [
       "<div>\n",
       "<style scoped>\n",
       "    .dataframe tbody tr th:only-of-type {\n",
       "        vertical-align: middle;\n",
       "    }\n",
       "\n",
       "    .dataframe tbody tr th {\n",
       "        vertical-align: top;\n",
       "    }\n",
       "\n",
       "    .dataframe thead th {\n",
       "        text-align: right;\n",
       "    }\n",
       "</style>\n",
       "<table border=\"1\" class=\"dataframe\">\n",
       "  <thead>\n",
       "    <tr style=\"text-align: right;\">\n",
       "      <th></th>\n",
       "      <th>bedrooms</th>\n",
       "      <th>bathrooms</th>\n",
       "      <th>rooms</th>\n",
       "      <th>squareFootage</th>\n",
       "      <th>lotSize</th>\n",
       "      <th>yearBuilt</th>\n",
       "      <th>priorSaleAmount</th>\n",
       "    </tr>\n",
       "  </thead>\n",
       "  <tbody>\n",
       "    <tr>\n",
       "      <th>0</th>\n",
       "      <td>3</td>\n",
       "      <td>2.0</td>\n",
       "      <td>6</td>\n",
       "      <td>1378</td>\n",
       "      <td>9968</td>\n",
       "      <td>2003.0</td>\n",
       "      <td>165700.0</td>\n",
       "    </tr>\n",
       "    <tr>\n",
       "      <th>1</th>\n",
       "      <td>2</td>\n",
       "      <td>2.0</td>\n",
       "      <td>6</td>\n",
       "      <td>1653</td>\n",
       "      <td>6970</td>\n",
       "      <td>2004.0</td>\n",
       "      <td>0.0</td>\n",
       "    </tr>\n",
       "    <tr>\n",
       "      <th>2</th>\n",
       "      <td>3</td>\n",
       "      <td>1.0</td>\n",
       "      <td>0</td>\n",
       "      <td>1882</td>\n",
       "      <td>23875</td>\n",
       "      <td>1917.0</td>\n",
       "      <td>0.0</td>\n",
       "    </tr>\n",
       "  </tbody>\n",
       "</table>\n",
       "</div>"
      ],
      "text/plain": [
       "   bedrooms  bathrooms  rooms  squareFootage  lotSize  yearBuilt  \\\n",
       "0         3        2.0      6           1378     9968     2003.0   \n",
       "1         2        2.0      6           1653     6970     2004.0   \n",
       "2         3        1.0      0           1882    23875     1917.0   \n",
       "\n",
       "   priorSaleAmount  \n",
       "0         165700.0  \n",
       "1              0.0  \n",
       "2              0.0  "
      ]
     },
     "execution_count": 15,
     "metadata": {},
     "output_type": "execute_result"
    }
   ],
   "source": [
    "X.head(3)"
   ]
  },
  {
   "cell_type": "code",
   "execution_count": 16,
   "id": "182b9bba",
   "metadata": {},
   "outputs": [],
   "source": [
    "y = df.estimated_value"
   ]
  },
  {
   "cell_type": "code",
   "execution_count": 18,
   "id": "13452d54",
   "metadata": {},
   "outputs": [
    {
     "name": "stdout",
     "output_type": "stream",
     "text": [
      "<class 'pandas.core.frame.DataFrame'>\n",
      "RangeIndex: 15000 entries, 0 to 14999\n",
      "Data columns (total 18 columns):\n",
      " #   Column           Non-Null Count  Dtype  \n",
      "---  ------           --------------  -----  \n",
      " 0   id               15000 non-null  int64  \n",
      " 1   address          15000 non-null  object \n",
      " 2   city             15000 non-null  object \n",
      " 3   state            15000 non-null  object \n",
      " 4   zipcode          15000 non-null  int64  \n",
      " 5   latitude         15000 non-null  float64\n",
      " 6   longitude        15000 non-null  float64\n",
      " 7   bedrooms         15000 non-null  int64  \n",
      " 8   bathrooms        15000 non-null  float64\n",
      " 9   rooms            15000 non-null  int64  \n",
      " 10  squareFootage    15000 non-null  int64  \n",
      " 11  lotSize          15000 non-null  int64  \n",
      " 12  yearBuilt        15000 non-null  float64\n",
      " 13  lastSaleDate     15000 non-null  object \n",
      " 14  lastSaleAmount   15000 non-null  int64  \n",
      " 15  priorSaleDate    15000 non-null  object \n",
      " 16  priorSaleAmount  15000 non-null  float64\n",
      " 17  estimated_value  15000 non-null  int64  \n",
      "dtypes: float64(5), int64(8), object(5)\n",
      "memory usage: 2.1+ MB\n"
     ]
    }
   ],
   "source": [
    "df.info()"
   ]
  },
  {
   "cell_type": "code",
   "execution_count": 32,
   "id": "821a3f47",
   "metadata": {
    "scrolled": true
   },
   "outputs": [
    {
     "data": {
      "text/plain": [
       "0.7648477834199695"
      ]
     },
     "execution_count": 32,
     "metadata": {},
     "output_type": "execute_result"
    }
   ],
   "source": [
    "lg= LinearRegression()\n",
    "lg.fit(X,y)# train/fit\n",
    "lg.score(X,y) # evaluate/testing score of regression "
   ]
  },
  {
   "cell_type": "code",
   "execution_count": 29,
   "id": "aa6bb4b4",
   "metadata": {},
   "outputs": [],
   "source": [
    "X_train, X_test, y_train, y_test= train_test_split(X,y)"
   ]
  },
  {
   "cell_type": "code",
   "execution_count": 31,
   "id": "250ff133",
   "metadata": {},
   "outputs": [
    {
     "data": {
      "text/plain": [
       "((11250, 7), (11250,))"
      ]
     },
     "execution_count": 31,
     "metadata": {},
     "output_type": "execute_result"
    }
   ],
   "source": [
    "X_train.shape, y_train.shape"
   ]
  },
  {
   "cell_type": "code",
   "execution_count": 33,
   "id": "29e73f18",
   "metadata": {},
   "outputs": [
    {
     "data": {
      "text/plain": [
       "0.7934472595266462"
      ]
     },
     "execution_count": 33,
     "metadata": {},
     "output_type": "execute_result"
    }
   ],
   "source": [
    "lg= LinearRegression()\n",
    "lg.fit(X_train,y_train)# train/fit\n",
    "lg.score(X_test,y_test) # evaluate/testing score of regression "
   ]
  },
  {
   "cell_type": "code",
   "execution_count": 42,
   "id": "38ef1e74",
   "metadata": {},
   "outputs": [],
   "source": [
    "df['estimate_value_bin']= df.estimated_value.apply(lambda x: 'high' if x > 500000 else 'low')"
   ]
  },
  {
   "cell_type": "code",
   "execution_count": 43,
   "id": "8bc90235",
   "metadata": {},
   "outputs": [
    {
     "data": {
      "text/html": [
       "<div>\n",
       "<style scoped>\n",
       "    .dataframe tbody tr th:only-of-type {\n",
       "        vertical-align: middle;\n",
       "    }\n",
       "\n",
       "    .dataframe tbody tr th {\n",
       "        vertical-align: top;\n",
       "    }\n",
       "\n",
       "    .dataframe thead th {\n",
       "        text-align: right;\n",
       "    }\n",
       "</style>\n",
       "<table border=\"1\" class=\"dataframe\">\n",
       "  <thead>\n",
       "    <tr style=\"text-align: right;\">\n",
       "      <th></th>\n",
       "      <th>id</th>\n",
       "      <th>address</th>\n",
       "      <th>city</th>\n",
       "      <th>state</th>\n",
       "      <th>zipcode</th>\n",
       "      <th>latitude</th>\n",
       "      <th>longitude</th>\n",
       "      <th>bedrooms</th>\n",
       "      <th>bathrooms</th>\n",
       "      <th>rooms</th>\n",
       "      <th>squareFootage</th>\n",
       "      <th>lotSize</th>\n",
       "      <th>yearBuilt</th>\n",
       "      <th>lastSaleDate</th>\n",
       "      <th>lastSaleAmount</th>\n",
       "      <th>priorSaleDate</th>\n",
       "      <th>priorSaleAmount</th>\n",
       "      <th>estimated_value</th>\n",
       "      <th>estimates_value_bin</th>\n",
       "      <th>estimate_value_bin</th>\n",
       "    </tr>\n",
       "  </thead>\n",
       "  <tbody>\n",
       "    <tr>\n",
       "      <th>0</th>\n",
       "      <td>39525749</td>\n",
       "      <td>8171 E 84th Ave</td>\n",
       "      <td>Denver</td>\n",
       "      <td>CO</td>\n",
       "      <td>80022</td>\n",
       "      <td>39.84916</td>\n",
       "      <td>-104.893468</td>\n",
       "      <td>3</td>\n",
       "      <td>2.0</td>\n",
       "      <td>6</td>\n",
       "      <td>1378</td>\n",
       "      <td>9968</td>\n",
       "      <td>2003.0</td>\n",
       "      <td>2009-12-17</td>\n",
       "      <td>75000</td>\n",
       "      <td>2004-05-13</td>\n",
       "      <td>165700.0</td>\n",
       "      <td>239753</td>\n",
       "      <td>low</td>\n",
       "      <td>low</td>\n",
       "    </tr>\n",
       "    <tr>\n",
       "      <th>1</th>\n",
       "      <td>184578398</td>\n",
       "      <td>10556 Wheeling St</td>\n",
       "      <td>Denver</td>\n",
       "      <td>CO</td>\n",
       "      <td>80022</td>\n",
       "      <td>39.88802</td>\n",
       "      <td>-104.830930</td>\n",
       "      <td>2</td>\n",
       "      <td>2.0</td>\n",
       "      <td>6</td>\n",
       "      <td>1653</td>\n",
       "      <td>6970</td>\n",
       "      <td>2004.0</td>\n",
       "      <td>2004-09-23</td>\n",
       "      <td>216935</td>\n",
       "      <td>0</td>\n",
       "      <td>0.0</td>\n",
       "      <td>343963</td>\n",
       "      <td>low</td>\n",
       "      <td>low</td>\n",
       "    </tr>\n",
       "  </tbody>\n",
       "</table>\n",
       "</div>"
      ],
      "text/plain": [
       "          id            address    city state  zipcode  latitude   longitude  \\\n",
       "0   39525749    8171 E 84th Ave  Denver    CO    80022  39.84916 -104.893468   \n",
       "1  184578398  10556 Wheeling St  Denver    CO    80022  39.88802 -104.830930   \n",
       "\n",
       "   bedrooms  bathrooms  rooms  squareFootage  lotSize  yearBuilt lastSaleDate  \\\n",
       "0         3        2.0      6           1378     9968     2003.0   2009-12-17   \n",
       "1         2        2.0      6           1653     6970     2004.0   2004-09-23   \n",
       "\n",
       "   lastSaleAmount priorSaleDate  priorSaleAmount  estimated_value  \\\n",
       "0           75000    2004-05-13         165700.0           239753   \n",
       "1          216935             0              0.0           343963   \n",
       "\n",
       "  estimates_value_bin estimate_value_bin  \n",
       "0                 low                low  \n",
       "1                 low                low  "
      ]
     },
     "execution_count": 43,
     "metadata": {},
     "output_type": "execute_result"
    }
   ],
   "source": [
    "df.head(2)"
   ]
  },
  {
   "cell_type": "code",
   "execution_count": 44,
   "id": "e4afca1b",
   "metadata": {},
   "outputs": [
    {
     "data": {
      "text/plain": [
       "high    7963\n",
       "low     7037\n",
       "Name: estimate_value_bin, dtype: int64"
      ]
     },
     "execution_count": 44,
     "metadata": {},
     "output_type": "execute_result"
    }
   ],
   "source": [
    "df.estimate_value_bin.value_counts()"
   ]
  },
  {
   "cell_type": "code",
   "execution_count": 49,
   "id": "50049455",
   "metadata": {},
   "outputs": [
    {
     "data": {
      "text/plain": [
       "<AxesSubplot:>"
      ]
     },
     "execution_count": 49,
     "metadata": {},
     "output_type": "execute_result"
    },
    {
     "data": {
      "image/png": "[encoded data removed]",
      "text/plain": [
       "<Figure size 640x480 with 1 Axes>"
      ]
     },
     "metadata": {},
     "output_type": "display_data"
    }
   ],
   "source": [
    "df.estimated_value.hist()"
   ]
  },
  {
   "cell_type": "code",
   "execution_count": 52,
   "id": "78850efc",
   "metadata": {},
   "outputs": [],
   "source": [
    "y2 = df.estimate_value_bin"
   ]
  },
  {
   "cell_type": "code",
   "execution_count": 55,
   "id": "0b0fecdd",
   "metadata": {},
   "outputs": [],
   "source": [
    "log = LogisticRegression()\n"
   ]
  },
  {
   "cell_type": "code",
   "execution_count": 56,
   "id": "7310482a",
   "metadata": {},
   "outputs": [],
   "source": [
    "X_train, X_test, y2_train, y2_test= train_test_split(X,y2)"
   ]
  },
  {
   "cell_type": "code",
   "execution_count": 58,
   "id": "d13ad0a6",
   "metadata": {},
   "outputs": [
    {
     "data": {
      "text/plain": [
       "LogisticRegression()"
      ]
     },
     "execution_count": 58,
     "metadata": {},
     "output_type": "execute_result"
    }
   ],
   "source": [
    "log.fit(X_train, y2_train)"
   ]
  },
  {
   "cell_type": "code",
   "execution_count": 60,
   "id": "d06f4d81",
   "metadata": {},
   "outputs": [
    {
     "data": {
      "text/plain": [
       "0.8277333333333333"
      ]
     },
     "execution_count": 60,
     "metadata": {},
     "output_type": "execute_result"
    }
   ],
   "source": [
    "log.score(X_test,y2_test)"
   ]
  },
  {
   "cell_type": "code",
   "execution_count": 66,
   "id": "69909a9f",
   "metadata": {},
   "outputs": [],
   "source": [
    "y_pred =log.predict(X_test)"
   ]
  },
  {
   "cell_type": "code",
   "execution_count": 63,
   "id": "975917de",
   "metadata": {},
   "outputs": [
    {
     "data": {
      "text/plain": [
       "array(['high', 'low', 'high', ..., 'low', 'high', 'high'], dtype=object)"
      ]
     },
     "execution_count": 63,
     "metadata": {},
     "output_type": "execute_result"
    }
   ],
   "source": [
    "np.array(y2_test)"
   ]
  },
  {
   "cell_type": "code",
   "execution_count": 67,
   "id": "68c10b53",
   "metadata": {},
   "outputs": [
    {
     "data": {
      "text/plain": [
       "array([[1625,  340],\n",
       "       [ 306, 1479]])"
      ]
     },
     "execution_count": 67,
     "metadata": {},
     "output_type": "execute_result"
    }
   ],
   "source": [
    "confusion_matrix(y2_test, y_pred)\n",
    "#labels\n",
    "\n",
    "#true\n",
    "###  (count of high)     (count of low)\n",
    "#predicted\n"
   ]
  },
  {
   "cell_type": "markdown",
   "id": "6b14a0c3",
   "metadata": {},
   "source": [
    "# 2.2 continued SVM (support vector machine)"
   ]
  },
  {
   "cell_type": "code",
   "execution_count": 68,
   "id": "d7a7a1d8",
   "metadata": {},
   "outputs": [],
   "source": [
    "from IPython.display import Image"
   ]
  },
  {
   "cell_type": "code",
   "execution_count": 70,
   "id": "8b047108",
   "metadata": {},
   "outputs": [
    {
     "data": {
      "image/png": "[encoded data removed]",
      "text/plain": [
       "<IPython.core.display.Image object>"
      ]
     },
     "execution_count": 70,
     "metadata": {},
     "output_type": "execute_result"
    }
   ],
   "source": [
    "Image('../data_sets/images/svm.png')"
   ]
  },
  {
   "cell_type": "markdown",
   "id": "19b54e2f",
   "metadata": {},
   "source": [
    "# 2.3 Association and Correlation"
   ]
  },
  {
   "cell_type": "code",
   "execution_count": 75,
   "id": "253c72d1",
   "metadata": {},
   "outputs": [],
   "source": [
    "svr = SVR()\n"
   ]
  },
  {
   "cell_type": "code",
   "execution_count": 76,
   "id": "ea43fc1b",
   "metadata": {},
   "outputs": [
    {
     "data": {
      "text/plain": [
       "SVR()"
      ]
     },
     "execution_count": 76,
     "metadata": {},
     "output_type": "execute_result"
    }
   ],
   "source": [
    "svr.fit(X_train, y_train)"
   ]
  },
  {
   "cell_type": "code",
   "execution_count": 77,
   "id": "79e66467",
   "metadata": {},
   "outputs": [
    {
     "data": {
      "text/plain": [
       "-0.05466233892272032"
      ]
     },
     "execution_count": 77,
     "metadata": {},
     "output_type": "execute_result"
    }
   ],
   "source": [
    "svr.score(X_test,y_test)"
   ]
  },
  {
   "cell_type": "code",
   "execution_count": 78,
   "id": "4649dc54",
   "metadata": {},
   "outputs": [],
   "source": [
    "svc= SVC()"
   ]
  },
  {
   "cell_type": "code",
   "execution_count": null,
   "id": "ca842842",
   "metadata": {},
   "outputs": [],
   "source": []
  }
 ],
 "metadata": {
  "kernelspec": {
   "display_name": "Python 3 (ipykernel)",
   "language": "python",
   "name": "python3"
  },
  "language_info": {
   "codemirror_mode": {
    "name": "ipython",
    "version": 3
   },
   "file_extension": ".py",
   "mimetype": "text/x-python",
   "name": "python",
   "nbconvert_exporter": "python",
   "pygments_lexer": "ipython3",
   "version": "3.9.13"
  }
 },
 "nbformat": 4,
 "nbformat_minor": 5
}
