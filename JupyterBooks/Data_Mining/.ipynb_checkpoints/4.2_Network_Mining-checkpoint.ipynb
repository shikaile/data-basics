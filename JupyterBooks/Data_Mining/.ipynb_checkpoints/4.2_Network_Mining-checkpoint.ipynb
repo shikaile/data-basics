{
 "cells": [
  {
   "cell_type": "code",
   "execution_count": 1,
   "id": "fe23285d-95aa-4f1c-bbe3-285721b01dcb",
   "metadata": {},
   "outputs": [],
   "source": [
    "import pandas as pd\n",
    "import numpy as np\n",
    "import scipy\n",
    "import matplotlib.pyplot as plt\n",
    "import seaborn as sns\n",
    "\n",
    "%matplotlib inline"
   ]
  },
  {
   "cell_type": "code",
   "execution_count": null,
   "id": "86120117-0187-4b27-946a-2d9b4daee314",
   "metadata": {},
   "outputs": [],
   "source": [
    "#Making Graphs in Python\n",
    "\n",
    "#Multiple libraries for creating, visualizing, and analyzing graphs in Python. \n",
    "#'networkx' used in this example, it visualizes graphsusing matplotlib engine."
   ]
  },
  {
   "cell_type": "code",
   "execution_count": null,
   "id": "9905bb03-5dcf-46c4-a6c9-c7cd27eb8e13",
   "metadata": {},
   "outputs": [],
   "source": [
    "import networkx as nx\n",
    "\n",
    "#creating a directed graph\n",
    "G= nx."
   ]
  }
 ],
 "metadata": {
  "kernelspec": {
   "display_name": "Python 3 (ipykernel)",
   "language": "python",
   "name": "python3"
  },
  "language_info": {
   "codemirror_mode": {
    "name": "ipython",
    "version": 3
   },
   "file_extension": ".py",
   "mimetype": "text/x-python",
   "name": "python",
   "nbconvert_exporter": "python",
   "pygments_lexer": "ipython3",
   "version": "3.9.13"
  }
 },
 "nbformat": 4,
 "nbformat_minor": 5
}
