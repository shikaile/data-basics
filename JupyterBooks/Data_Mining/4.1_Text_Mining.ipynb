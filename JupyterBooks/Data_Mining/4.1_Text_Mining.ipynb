{
 "cells": [
  {
   "cell_type": "code",
   "execution_count": 2,
   "id": "24e674d0-d996-4d39-8bbd-783e1e2bc877",
   "metadata": {},
   "outputs": [],
   "source": [
    "import pandas as pd\n",
    "import numpy as np\n",
    "import scipy\n",
    "import matplotlib.pyplot as plt\n",
    "import seaborn as sns\n",
    "\n",
    "%matplotlib inline"
   ]
  },
  {
   "cell_type": "code",
   "execution_count": 3,
   "id": "98f715ad-295c-4cee-90cb-3e228b40fa0c",
   "metadata": {},
   "outputs": [],
   "source": [
    "data_path = (\"../data_sets/smsspamcollection/SMSSpamCollection\")\n",
    "\n",
    "sms_raw = pd.read_table(data_path, header=None)\n",
    "\n",
    "sms_raw.columns = ['class','message']"
   ]
  },
  {
   "cell_type": "code",
   "execution_count": 6,
   "id": "aef6680f-c25c-4e2d-bb9d-627390d1add9",
   "metadata": {},
   "outputs": [
    {
     "data": {
      "text/html": [
       "<div>\n",
       "<style scoped>\n",
       "    .dataframe tbody tr th:only-of-type {\n",
       "        vertical-align: middle;\n",
       "    }\n",
       "\n",
       "    .dataframe tbody tr th {\n",
       "        vertical-align: top;\n",
       "    }\n",
       "\n",
       "    .dataframe thead th {\n",
       "        text-align: right;\n",
       "    }\n",
       "</style>\n",
       "<table border=\"1\" class=\"dataframe\">\n",
       "  <thead>\n",
       "    <tr style=\"text-align: right;\">\n",
       "      <th></th>\n",
       "      <th>class</th>\n",
       "      <th>message</th>\n",
       "    </tr>\n",
       "  </thead>\n",
       "  <tbody>\n",
       "    <tr>\n",
       "      <th>0</th>\n",
       "      <td>ham</td>\n",
       "      <td>Go until jurong point, crazy.. Available only ...</td>\n",
       "    </tr>\n",
       "    <tr>\n",
       "      <th>1</th>\n",
       "      <td>ham</td>\n",
       "      <td>Ok lar... Joking wif u oni...</td>\n",
       "    </tr>\n",
       "    <tr>\n",
       "      <th>2</th>\n",
       "      <td>spam</td>\n",
       "      <td>Free entry in 2 a wkly comp to win FA Cup fina...</td>\n",
       "    </tr>\n",
       "  </tbody>\n",
       "</table>\n",
       "</div>"
      ],
      "text/plain": [
       "  class                                            message\n",
       "0   ham  Go until jurong point, crazy.. Available only ...\n",
       "1   ham                      Ok lar... Joking wif u oni...\n",
       "2  spam  Free entry in 2 a wkly comp to win FA Cup fina..."
      ]
     },
     "execution_count": 6,
     "metadata": {},
     "output_type": "execute_result"
    }
   ],
   "source": [
    "sms_raw.head(3)"
   ]
  },
  {
   "cell_type": "code",
   "execution_count": 15,
   "id": "9402d942-c9fe-4518-9787-a68653f43f77",
   "metadata": {},
   "outputs": [
    {
     "data": {
      "text/plain": [
       "class\n",
       "ham     4825\n",
       "spam     747\n",
       "dtype: int64"
      ]
     },
     "execution_count": 15,
     "metadata": {},
     "output_type": "execute_result"
    }
   ],
   "source": [
    "sms_raw.value_counts('class')"
   ]
  },
  {
   "cell_type": "code",
   "execution_count": 17,
   "id": "5c47ac99-56f3-4924-9c71-acda8bc1abcc",
   "metadata": {},
   "outputs": [
    {
     "data": {
      "text/plain": [
       "(5572, 2)"
      ]
     },
     "execution_count": 17,
     "metadata": {},
     "output_type": "execute_result"
    }
   ],
   "source": [
    "sms_raw.shape"
   ]
  },
  {
   "cell_type": "code",
   "execution_count": 18,
   "id": "336e41f3-5bb3-41b3-b277-4af55baba889",
   "metadata": {},
   "outputs": [],
   "source": [
    "keywords = ['free', 'click', 'urgent', 'buy', 'visit', 'win', 'dollars']\n",
    "\n",
    "for key in keywords:\n",
    "    sms_raw[str(key)] = sms_raw.message.str.contains(\n",
    "        ' ' + str(key) + ' ', case = False)"
   ]
  },
  {
   "cell_type": "code",
   "execution_count": 19,
   "id": "43900de9-5816-4864-b5ba-6351e535e506",
   "metadata": {},
   "outputs": [
    {
     "data": {
      "text/plain": [
       "(5572, 9)"
      ]
     },
     "execution_count": 19,
     "metadata": {},
     "output_type": "execute_result"
    }
   ],
   "source": [
    "sms_raw.shape"
   ]
  },
  {
   "cell_type": "code",
   "execution_count": 22,
   "id": "65eb126f-0206-431c-809d-2faed80b0e45",
   "metadata": {},
   "outputs": [
    {
     "data": {
      "text/html": [
       "<div>\n",
       "<style scoped>\n",
       "    .dataframe tbody tr th:only-of-type {\n",
       "        vertical-align: middle;\n",
       "    }\n",
       "\n",
       "    .dataframe tbody tr th {\n",
       "        vertical-align: top;\n",
       "    }\n",
       "\n",
       "    .dataframe thead th {\n",
       "        text-align: right;\n",
       "    }\n",
       "</style>\n",
       "<table border=\"1\" class=\"dataframe\">\n",
       "  <thead>\n",
       "    <tr style=\"text-align: right;\">\n",
       "      <th></th>\n",
       "      <th>class</th>\n",
       "      <th>message</th>\n",
       "      <th>free</th>\n",
       "      <th>click</th>\n",
       "      <th>urgent</th>\n",
       "      <th>buy</th>\n",
       "      <th>visit</th>\n",
       "      <th>win</th>\n",
       "      <th>dollars</th>\n",
       "    </tr>\n",
       "  </thead>\n",
       "  <tbody>\n",
       "    <tr>\n",
       "      <th>5567</th>\n",
       "      <td>spam</td>\n",
       "      <td>This is the 2nd time we have tried 2 contact u...</td>\n",
       "      <td>False</td>\n",
       "      <td>False</td>\n",
       "      <td>False</td>\n",
       "      <td>False</td>\n",
       "      <td>False</td>\n",
       "      <td>False</td>\n",
       "      <td>False</td>\n",
       "    </tr>\n",
       "    <tr>\n",
       "      <th>5568</th>\n",
       "      <td>ham</td>\n",
       "      <td>Will ü b going to esplanade fr home?</td>\n",
       "      <td>False</td>\n",
       "      <td>False</td>\n",
       "      <td>False</td>\n",
       "      <td>False</td>\n",
       "      <td>False</td>\n",
       "      <td>False</td>\n",
       "      <td>False</td>\n",
       "    </tr>\n",
       "    <tr>\n",
       "      <th>5569</th>\n",
       "      <td>ham</td>\n",
       "      <td>Pity, * was in mood for that. So...any other s...</td>\n",
       "      <td>False</td>\n",
       "      <td>False</td>\n",
       "      <td>False</td>\n",
       "      <td>False</td>\n",
       "      <td>False</td>\n",
       "      <td>False</td>\n",
       "      <td>False</td>\n",
       "    </tr>\n",
       "    <tr>\n",
       "      <th>5570</th>\n",
       "      <td>ham</td>\n",
       "      <td>The guy did some bitching but I acted like i'd...</td>\n",
       "      <td>False</td>\n",
       "      <td>False</td>\n",
       "      <td>False</td>\n",
       "      <td>False</td>\n",
       "      <td>False</td>\n",
       "      <td>False</td>\n",
       "      <td>False</td>\n",
       "    </tr>\n",
       "    <tr>\n",
       "      <th>5571</th>\n",
       "      <td>ham</td>\n",
       "      <td>Rofl. Its true to its name</td>\n",
       "      <td>False</td>\n",
       "      <td>False</td>\n",
       "      <td>False</td>\n",
       "      <td>False</td>\n",
       "      <td>False</td>\n",
       "      <td>False</td>\n",
       "      <td>False</td>\n",
       "    </tr>\n",
       "  </tbody>\n",
       "</table>\n",
       "</div>"
      ],
      "text/plain": [
       "     class                                            message   free  click  \\\n",
       "5567  spam  This is the 2nd time we have tried 2 contact u...  False  False   \n",
       "5568   ham               Will ü b going to esplanade fr home?  False  False   \n",
       "5569   ham  Pity, * was in mood for that. So...any other s...  False  False   \n",
       "5570   ham  The guy did some bitching but I acted like i'd...  False  False   \n",
       "5571   ham                         Rofl. Its true to its name  False  False   \n",
       "\n",
       "      urgent    buy  visit    win  dollars  \n",
       "5567   False  False  False  False    False  \n",
       "5568   False  False  False  False    False  \n",
       "5569   False  False  False  False    False  \n",
       "5570   False  False  False  False    False  \n",
       "5571   False  False  False  False    False  "
      ]
     },
     "execution_count": 22,
     "metadata": {},
     "output_type": "execute_result"
    }
   ],
   "source": [
    "sms_raw.tail(5)"
   ]
  },
  {
   "cell_type": "code",
   "execution_count": 23,
   "id": "2244fd3d-2f18-46c7-b5c9-06c36a11ad4b",
   "metadata": {},
   "outputs": [],
   "source": [
    "sms_raw['allCaps'] = sms_raw.message.str.isupper() #make row for only all Cap messages"
   ]
  },
  {
   "cell_type": "code",
   "execution_count": 25,
   "id": "eed4d779-ee85-4f8d-8a1a-d2e4166c048e",
   "metadata": {},
   "outputs": [
    {
     "data": {
      "text/html": [
       "<div>\n",
       "<style scoped>\n",
       "    .dataframe tbody tr th:only-of-type {\n",
       "        vertical-align: middle;\n",
       "    }\n",
       "\n",
       "    .dataframe tbody tr th {\n",
       "        vertical-align: top;\n",
       "    }\n",
       "\n",
       "    .dataframe thead th {\n",
       "        text-align: right;\n",
       "    }\n",
       "</style>\n",
       "<table border=\"1\" class=\"dataframe\">\n",
       "  <thead>\n",
       "    <tr style=\"text-align: right;\">\n",
       "      <th></th>\n",
       "      <th>class</th>\n",
       "      <th>message</th>\n",
       "      <th>free</th>\n",
       "      <th>click</th>\n",
       "      <th>urgent</th>\n",
       "      <th>buy</th>\n",
       "      <th>visit</th>\n",
       "      <th>win</th>\n",
       "      <th>dollars</th>\n",
       "      <th>allCaps</th>\n",
       "    </tr>\n",
       "  </thead>\n",
       "  <tbody>\n",
       "    <tr>\n",
       "      <th>14</th>\n",
       "      <td>ham</td>\n",
       "      <td>I HAVE A DATE ON SUNDAY WITH WILL!!</td>\n",
       "      <td>False</td>\n",
       "      <td>False</td>\n",
       "      <td>False</td>\n",
       "      <td>False</td>\n",
       "      <td>False</td>\n",
       "      <td>False</td>\n",
       "      <td>False</td>\n",
       "      <td>True</td>\n",
       "    </tr>\n",
       "    <tr>\n",
       "      <th>43</th>\n",
       "      <td>ham</td>\n",
       "      <td>WHO ARE YOU SEEING?</td>\n",
       "      <td>False</td>\n",
       "      <td>False</td>\n",
       "      <td>False</td>\n",
       "      <td>False</td>\n",
       "      <td>False</td>\n",
       "      <td>False</td>\n",
       "      <td>False</td>\n",
       "      <td>True</td>\n",
       "    </tr>\n",
       "    <tr>\n",
       "      <th>72</th>\n",
       "      <td>ham</td>\n",
       "      <td>HI BABE IM AT HOME NOW WANNA DO SOMETHING? XX</td>\n",
       "      <td>False</td>\n",
       "      <td>False</td>\n",
       "      <td>False</td>\n",
       "      <td>False</td>\n",
       "      <td>False</td>\n",
       "      <td>False</td>\n",
       "      <td>False</td>\n",
       "      <td>True</td>\n",
       "    </tr>\n",
       "    <tr>\n",
       "      <th>263</th>\n",
       "      <td>ham</td>\n",
       "      <td>MY NO. IN LUTON 0125698789 RING ME IF UR AROUN...</td>\n",
       "      <td>False</td>\n",
       "      <td>False</td>\n",
       "      <td>False</td>\n",
       "      <td>False</td>\n",
       "      <td>False</td>\n",
       "      <td>False</td>\n",
       "      <td>False</td>\n",
       "      <td>True</td>\n",
       "    </tr>\n",
       "  </tbody>\n",
       "</table>\n",
       "</div>"
      ],
      "text/plain": [
       "    class                                            message   free  click  \\\n",
       "14    ham                I HAVE A DATE ON SUNDAY WITH WILL!!  False  False   \n",
       "43    ham                                WHO ARE YOU SEEING?  False  False   \n",
       "72    ham      HI BABE IM AT HOME NOW WANNA DO SOMETHING? XX  False  False   \n",
       "263   ham  MY NO. IN LUTON 0125698789 RING ME IF UR AROUN...  False  False   \n",
       "\n",
       "     urgent    buy  visit    win  dollars  allCaps  \n",
       "14    False  False  False  False    False     True  \n",
       "43    False  False  False  False    False     True  \n",
       "72    False  False  False  False    False     True  \n",
       "263   False  False  False  False    False     True  "
      ]
     },
     "execution_count": 25,
     "metadata": {},
     "output_type": "execute_result"
    }
   ],
   "source": [
    "sms_raw[sms_raw.allCaps==True].head(4)"
   ]
  },
  {
   "cell_type": "code",
   "execution_count": 26,
   "id": "36c4f26f-8cd4-4390-8f28-bc368e2b0955",
   "metadata": {},
   "outputs": [
    {
     "data": {
      "text/html": [
       "<div>\n",
       "<style scoped>\n",
       "    .dataframe tbody tr th:only-of-type {\n",
       "        vertical-align: middle;\n",
       "    }\n",
       "\n",
       "    .dataframe tbody tr th {\n",
       "        vertical-align: top;\n",
       "    }\n",
       "\n",
       "    .dataframe thead th {\n",
       "        text-align: right;\n",
       "    }\n",
       "</style>\n",
       "<table border=\"1\" class=\"dataframe\">\n",
       "  <thead>\n",
       "    <tr style=\"text-align: right;\">\n",
       "      <th></th>\n",
       "      <th>free</th>\n",
       "      <th>click</th>\n",
       "      <th>urgent</th>\n",
       "      <th>buy</th>\n",
       "      <th>visit</th>\n",
       "      <th>win</th>\n",
       "      <th>dollars</th>\n",
       "      <th>allCaps</th>\n",
       "    </tr>\n",
       "  </thead>\n",
       "  <tbody>\n",
       "    <tr>\n",
       "      <th>free</th>\n",
       "      <td>1.000000</td>\n",
       "      <td>-0.005735</td>\n",
       "      <td>-0.006624</td>\n",
       "      <td>-0.016623</td>\n",
       "      <td>0.072655</td>\n",
       "      <td>0.043990</td>\n",
       "      <td>-0.004054</td>\n",
       "      <td>-0.022883</td>\n",
       "    </tr>\n",
       "    <tr>\n",
       "      <th>click</th>\n",
       "      <td>-0.005735</td>\n",
       "      <td>1.000000</td>\n",
       "      <td>-0.001245</td>\n",
       "      <td>-0.003124</td>\n",
       "      <td>-0.001706</td>\n",
       "      <td>0.050065</td>\n",
       "      <td>-0.000762</td>\n",
       "      <td>-0.004301</td>\n",
       "    </tr>\n",
       "    <tr>\n",
       "      <th>urgent</th>\n",
       "      <td>-0.006624</td>\n",
       "      <td>-0.001245</td>\n",
       "      <td>1.000000</td>\n",
       "      <td>-0.003608</td>\n",
       "      <td>-0.001970</td>\n",
       "      <td>-0.003923</td>\n",
       "      <td>-0.000880</td>\n",
       "      <td>-0.004967</td>\n",
       "    </tr>\n",
       "    <tr>\n",
       "      <th>buy</th>\n",
       "      <td>-0.016623</td>\n",
       "      <td>-0.003124</td>\n",
       "      <td>-0.003608</td>\n",
       "      <td>1.000000</td>\n",
       "      <td>-0.004944</td>\n",
       "      <td>0.008749</td>\n",
       "      <td>-0.002209</td>\n",
       "      <td>-0.012465</td>\n",
       "    </tr>\n",
       "    <tr>\n",
       "      <th>visit</th>\n",
       "      <td>0.072655</td>\n",
       "      <td>-0.001706</td>\n",
       "      <td>-0.001970</td>\n",
       "      <td>-0.004944</td>\n",
       "      <td>1.000000</td>\n",
       "      <td>-0.005375</td>\n",
       "      <td>-0.001206</td>\n",
       "      <td>-0.006806</td>\n",
       "    </tr>\n",
       "    <tr>\n",
       "      <th>win</th>\n",
       "      <td>0.043990</td>\n",
       "      <td>0.050065</td>\n",
       "      <td>-0.003923</td>\n",
       "      <td>0.008749</td>\n",
       "      <td>-0.005375</td>\n",
       "      <td>1.000000</td>\n",
       "      <td>-0.002401</td>\n",
       "      <td>-0.013551</td>\n",
       "    </tr>\n",
       "    <tr>\n",
       "      <th>dollars</th>\n",
       "      <td>-0.004054</td>\n",
       "      <td>-0.000762</td>\n",
       "      <td>-0.000880</td>\n",
       "      <td>-0.002209</td>\n",
       "      <td>-0.001206</td>\n",
       "      <td>-0.002401</td>\n",
       "      <td>1.000000</td>\n",
       "      <td>-0.003040</td>\n",
       "    </tr>\n",
       "    <tr>\n",
       "      <th>allCaps</th>\n",
       "      <td>-0.022883</td>\n",
       "      <td>-0.004301</td>\n",
       "      <td>-0.004967</td>\n",
       "      <td>-0.012465</td>\n",
       "      <td>-0.006806</td>\n",
       "      <td>-0.013551</td>\n",
       "      <td>-0.003040</td>\n",
       "      <td>1.000000</td>\n",
       "    </tr>\n",
       "  </tbody>\n",
       "</table>\n",
       "</div>"
      ],
      "text/plain": [
       "             free     click    urgent       buy     visit       win   dollars  \\\n",
       "free     1.000000 -0.005735 -0.006624 -0.016623  0.072655  0.043990 -0.004054   \n",
       "click   -0.005735  1.000000 -0.001245 -0.003124 -0.001706  0.050065 -0.000762   \n",
       "urgent  -0.006624 -0.001245  1.000000 -0.003608 -0.001970 -0.003923 -0.000880   \n",
       "buy     -0.016623 -0.003124 -0.003608  1.000000 -0.004944  0.008749 -0.002209   \n",
       "visit    0.072655 -0.001706 -0.001970 -0.004944  1.000000 -0.005375 -0.001206   \n",
       "win      0.043990  0.050065 -0.003923  0.008749 -0.005375  1.000000 -0.002401   \n",
       "dollars -0.004054 -0.000762 -0.000880 -0.002209 -0.001206 -0.002401  1.000000   \n",
       "allCaps -0.022883 -0.004301 -0.004967 -0.012465 -0.006806 -0.013551 -0.003040   \n",
       "\n",
       "          allCaps  \n",
       "free    -0.022883  \n",
       "click   -0.004301  \n",
       "urgent  -0.004967  \n",
       "buy     -0.012465  \n",
       "visit   -0.006806  \n",
       "win     -0.013551  \n",
       "dollars -0.003040  \n",
       "allCaps  1.000000  "
      ]
     },
     "execution_count": 26,
     "metadata": {},
     "output_type": "execute_result"
    }
   ],
   "source": [
    "sms_raw.corr()"
   ]
  },
  {
   "cell_type": "code",
   "execution_count": 29,
   "id": "0b5c7b8d-9f27-49e9-8170-cc20410bd0d4",
   "metadata": {},
   "outputs": [
    {
     "data": {
      "text/plain": [
       "<AxesSubplot:>"
      ]
     },
     "execution_count": 29,
     "metadata": {},
     "output_type": "execute_result"
    },
    {
     "data": {
      "image/png": "[encoded data removed]",
      "text/plain": [
       "<Figure size 640x480 with 2 Axes>"
      ]
     },
     "metadata": {},
     "output_type": "display_data"
    }
   ],
   "source": [
    "sns.heatmap(sms_raw.corr())"
   ]
  },
  {
   "cell_type": "code",
   "execution_count": 36,
   "id": "365cae52-e78c-409b-9103-e7800a6a1272",
   "metadata": {},
   "outputs": [],
   "source": [
    "data = sms_raw[keywords + ['allCaps']]\n",
    "\n",
    "target = sms_raw['class']"
   ]
  },
  {
   "cell_type": "code",
   "execution_count": 37,
   "id": "db4f02a1-991e-43b2-8c2a-79a9bcf6f478",
   "metadata": {},
   "outputs": [
    {
     "data": {
      "text/html": [
       "<div>\n",
       "<style scoped>\n",
       "    .dataframe tbody tr th:only-of-type {\n",
       "        vertical-align: middle;\n",
       "    }\n",
       "\n",
       "    .dataframe tbody tr th {\n",
       "        vertical-align: top;\n",
       "    }\n",
       "\n",
       "    .dataframe thead th {\n",
       "        text-align: right;\n",
       "    }\n",
       "</style>\n",
       "<table border=\"1\" class=\"dataframe\">\n",
       "  <thead>\n",
       "    <tr style=\"text-align: right;\">\n",
       "      <th></th>\n",
       "      <th>free</th>\n",
       "      <th>click</th>\n",
       "      <th>urgent</th>\n",
       "      <th>buy</th>\n",
       "      <th>visit</th>\n",
       "      <th>win</th>\n",
       "      <th>dollars</th>\n",
       "      <th>allCaps</th>\n",
       "    </tr>\n",
       "  </thead>\n",
       "  <tbody>\n",
       "    <tr>\n",
       "      <th>0</th>\n",
       "      <td>False</td>\n",
       "      <td>False</td>\n",
       "      <td>False</td>\n",
       "      <td>False</td>\n",
       "      <td>False</td>\n",
       "      <td>False</td>\n",
       "      <td>False</td>\n",
       "      <td>False</td>\n",
       "    </tr>\n",
       "    <tr>\n",
       "      <th>1</th>\n",
       "      <td>False</td>\n",
       "      <td>False</td>\n",
       "      <td>False</td>\n",
       "      <td>False</td>\n",
       "      <td>False</td>\n",
       "      <td>False</td>\n",
       "      <td>False</td>\n",
       "      <td>False</td>\n",
       "    </tr>\n",
       "    <tr>\n",
       "      <th>2</th>\n",
       "      <td>False</td>\n",
       "      <td>False</td>\n",
       "      <td>False</td>\n",
       "      <td>False</td>\n",
       "      <td>False</td>\n",
       "      <td>True</td>\n",
       "      <td>False</td>\n",
       "      <td>False</td>\n",
       "    </tr>\n",
       "  </tbody>\n",
       "</table>\n",
       "</div>"
      ],
      "text/plain": [
       "    free  click  urgent    buy  visit    win  dollars  allCaps\n",
       "0  False  False   False  False  False  False    False    False\n",
       "1  False  False   False  False  False  False    False    False\n",
       "2  False  False   False  False  False   True    False    False"
      ]
     },
     "execution_count": 37,
     "metadata": {},
     "output_type": "execute_result"
    }
   ],
   "source": [
    "data.head(3)"
   ]
  },
  {
   "cell_type": "code",
   "execution_count": 39,
   "id": "8966ca5d-bc5c-4c7f-962f-f855ea2479b9",
   "metadata": {},
   "outputs": [
    {
     "name": "stdout",
     "output_type": "stream",
     "text": [
      "Number of mislabled points out of total 5572 points : 622\n"
     ]
    }
   ],
   "source": [
    "# Our Data is binary/boolean, so we're importing Bernoulli classifier.\n",
    "\n",
    "from sklearn.naive_bayes import BernoulliNB\n",
    "\n",
    "#Instantiate model and store it in a new variable \n",
    "\n",
    "bnb = BernoulliNB()\n",
    "\n",
    "#fit model to data\n",
    "\n",
    "bnb.fit(data, target)\n",
    "\n",
    "#Classify, storing the result in a new variable.\n",
    "\n",
    "y_pred = bnb.predict(data)\n",
    "\n",
    "#Display our results.\n",
    "\n",
    "print(\"Number of mislabled points out of total {} points : {}\".format( \n",
    "    data.shape[0],\n",
    "    (target != y_pred).sum()\n",
    "))"
   ]
  },
  {
   "cell_type": "code",
   "execution_count": 40,
   "id": "80238593-decc-4e51-972e-b2d2cfd28188",
   "metadata": {},
   "outputs": [],
   "source": [
    "from sklearn.metrics import confusion_matrix"
   ]
  },
  {
   "cell_type": "code",
   "execution_count": 41,
   "id": "7cb78e0e-5a7f-4181-a5a4-b00f9f127c36",
   "metadata": {},
   "outputs": [
    {
     "data": {
      "text/plain": [
       "array([[4772,   53],\n",
       "       [ 569,  178]])"
      ]
     },
     "execution_count": 41,
     "metadata": {},
     "output_type": "execute_result"
    }
   ],
   "source": [
    "confusion_matrix(target, y_pred)"
   ]
  },
  {
   "cell_type": "code",
   "execution_count": null,
   "id": "ccd04e58-6664-4415-8551-10e2c898638a",
   "metadata": {},
   "outputs": [],
   "source": []
  }
 ],
 "metadata": {
  "kernelspec": {
   "display_name": "Python 3 (ipykernel)",
   "language": "python",
   "name": "python3"
  },
  "language_info": {
   "codemirror_mode": {
    "name": "ipython",
    "version": 3
   },
   "file_extension": ".py",
   "mimetype": "text/x-python",
   "name": "python",
   "nbconvert_exporter": "python",
   "pygments_lexer": "ipython3",
   "version": "3.9.13"
  }
 },
 "nbformat": 4,
 "nbformat_minor": 5
}
